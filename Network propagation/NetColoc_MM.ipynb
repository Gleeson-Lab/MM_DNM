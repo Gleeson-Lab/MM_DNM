{
 "cells": [
  {
   "cell_type": "code",
   "execution_count": 1,
   "id": "81c02b39",
   "metadata": {},
   "outputs": [],
   "source": [
    "# load required packages\n",
    "import numpy as np\n",
    "import matplotlib.pyplot as plt\n",
    "import seaborn as sns\n",
    "import networkx\n",
    "import networkx as nx\n",
    "import pandas as pd\n",
    "import re\n",
    "import random\n",
    "from ndex2.cx2 import CX2Network\n",
    "\n",
    "from IPython.display import display\n",
    "\n",
    "import getpass\n",
    "import ndex2\n",
    "\n",
    "import json\n",
    "import cdapsutil\n",
    "\n",
    "#from gprofiler import GProfiler\n",
    "#gp = GProfiler(\"MyToolName/0.1\")\n",
    "\n",
    "from scipy.stats import hypergeom\n",
    "from scipy.stats import norm\n",
    "\n",
    "# latex rendering of text in graphs\n",
    "import matplotlib as mpl\n",
    "mpl.rc('text', usetex = False)\n",
    "mpl.rc('font', family = 'serif')\n",
    "\n",
    "from matplotlib import rcParams\n",
    "rcParams['font.family'] = 'sans-serif'\n",
    "rcParams['font.sans-serif'] = ['Arial']\n",
    "\n",
    "sns.set(font_scale=1.4)\n",
    "\n",
    "sns.set_style('white')\n",
    "\n",
    "sns.set_style(\"ticks\", {\"xtick.major.size\": 15, \"ytick.major.size\": 15})\n",
    "plt.rcParams['svg.fonttype'] = 'none'\n",
    "\n",
    "from datetime import datetime\n",
    "import sys\n",
    "%matplotlib inline\n",
    "import networkx"
   ]
  },
  {
   "cell_type": "code",
   "execution_count": 2,
   "id": "71b99a6a",
   "metadata": {},
   "outputs": [
    {
     "name": "stderr",
     "output_type": "stream",
     "text": [
      "/tscc/nfs/home/hiyoothere/miniconda3/envs/r4/lib/python3.12/site-packages/netcoloc/validation.py:20: UserWarning: Import of ddot failed. NetColoc will not work properly: + cannot import name 'Ontology' from 'ddot' (/tscc/nfs/home/hiyoothere/miniconda3/envs/r4/lib/python3.12/site-packages/ddot/__init__.py)\n",
      "  warnings.warn('Import of ddot failed. NetColoc will not work properly: + ' + str(ie))\n"
     ]
    }
   ],
   "source": [
    "# verify DDOT was installed\n",
    "import ddot\n",
    "\n",
    "from netcoloc import netprop_zscore, netprop, network_colocalization, validation\n"
   ]
  },
  {
   "cell_type": "markdown",
   "id": "4234e004",
   "metadata": {},
   "source": [
    "## 2. Select two gene sets of interest. Load gene sets from text files into python."
   ]
  },
  {
   "cell_type": "code",
   "execution_count": 3,
   "id": "ca67b020",
   "metadata": {},
   "outputs": [],
   "source": [
    "d1_name='MM DNM gens'"
   ]
  },
  {
   "cell_type": "code",
   "execution_count": 4,
   "id": "906f878d",
   "metadata": {},
   "outputs": [],
   "source": [
    "#Get alias gene \n",
    "f_alias = open(\"/tscc/projects/ps-gleesonlab7/gleeson3/resources/HGNC/Gene_SYNONYM.txt\", 'r')\n",
    "dic_alias = {} #alias:general\n",
    "\n",
    "for line in f_alias:\n",
    "    if \"Approved\" not in line:\n",
    "        s = line.strip().split(\"\\t\")\n",
    "        #print (len(s))\n",
    "        approved = s[0]\n",
    "        if len(s) ==2:\n",
    "            if ',' in s[1]:\n",
    "                l_alias = s[1].split(',')\n",
    "                for i in l_alias:\n",
    "                    dic_alias[i.strip()] = approved\n",
    "            else:\n",
    "                dic_alias[s[1]] = approved\n",
    "        elif len(s) == 3:\n",
    "            if ',' in s[1]:\n",
    "                l_alias = s[1].split(',')\n",
    "                for i in l_alias:\n",
    "                    \n",
    "                    dic_alias[i.strip()] = approved\n",
    "            else:\n",
    "                dic_alias[s[1]] = approved\n",
    "            if ',' in s[2]:\n",
    "                l_previous = s[2].split(',')\n",
    "\n",
    "                for i in l_previous:\n",
    "                    dic_alias[i.strip()] = approved\n",
    "            else:\n",
    "                dic_alias[s[2]] = approved\n"
   ]
  },
  {
   "cell_type": "code",
   "execution_count": 5,
   "id": "396756c5",
   "metadata": {},
   "outputs": [
    {
     "name": "stdout",
     "output_type": "stream",
     "text": [
      "Number of MM DNM gens genes: 187\n",
      "First 5 genes: ['GRIA3', 'SLC30A6', 'RXFP2', 'FAM83G', 'ZSWIM6']\n"
     ]
    }
   ],
   "source": [
    "# ------ customize this section based your input genesets -------\n",
    "\n",
    "D1_df = pd.read_csv('/tscc/projects/ps-gleesonlab8/User/hiyoothere/NTD/5.Analysis/DNM/Burden/NTD_DamMC2_woINVALID.den_input',sep='\\t')\n",
    "D1_genes = D1_df['SYMBOL'].tolist()\n",
    "#Remove duplicates\n",
    "D1_genes = list(set(D1_genes))\n",
    "\n",
    "        \n",
    "print('Number of '+d1_name+' genes:',len(D1_genes))\n",
    "print('First 5 genes:', D1_genes[0:5])"
   ]
  },
  {
   "cell_type": "markdown",
   "id": "c7991d4e",
   "metadata": {},
   "source": [
    "## 3. Select gene interaction network to use for the analysis."
   ]
  },
  {
   "cell_type": "code",
   "execution_count": 6,
   "id": "f89c0864",
   "metadata": {},
   "outputs": [
    {
     "name": "stdout",
     "output_type": "stream",
     "text": [
      "Number of nodes: 18820\n",
      "\n",
      "Number of edges: 2693109\n"
     ]
    }
   ],
   "source": [
    "interactome_uuid='4de852d9-9908-11e9-bcaf-0ac135e8bacf' # for PCNet\n",
    "ndex_server='public.ndexbio.org'\n",
    "ndex_user=None\n",
    "ndex_password=None\n",
    "G_int = ndex2.create_nice_cx_from_server(\n",
    "            ndex_server, \n",
    "            username=ndex_user, \n",
    "            password=ndex_password, \n",
    "            uuid=interactome_uuid\n",
    "        ).to_networkx()\n",
    "nodes = list(G_int.nodes)\n",
    "\n",
    "# remove self edges from network\n",
    "G_int.remove_edges_from(nx.selfloop_edges(G_int))\n",
    "\n",
    "# print out the numbers of nodes and edges in the interatome for diagnostic purposes:\n",
    "print('Number of nodes:', len(G_int.nodes))\n",
    "print('\\nNumber of edges:', len(G_int.edges))"
   ]
  },
  {
   "cell_type": "code",
   "execution_count": 7,
   "id": "e3c0f8b1",
   "metadata": {},
   "outputs": [],
   "source": [
    "int_nodes = list(G_int.nodes)"
   ]
  },
  {
   "cell_type": "markdown",
   "id": "bf57167e",
   "metadata": {},
   "source": [
    "# Identify network colocalized gene network"
   ]
  },
  {
   "cell_type": "markdown",
   "id": "d2d13f0e",
   "metadata": {},
   "source": [
    "## 4. Precalculate matrices needed for propagation. This step should take a few minutes (more for larger/denser networks)"
   ]
  },
  {
   "cell_type": "code",
   "execution_count": 8,
   "id": "40749cc5",
   "metadata": {},
   "outputs": [
    {
     "name": "stdout",
     "output_type": "stream",
     "text": [
      "\n",
      "calculating w_prime\n",
      "\n",
      "calculating w_double_prime\n"
     ]
    }
   ],
   "source": [
    "# pre-calculate matrices used for network propagation. this step takes a few minutes, more for denser interactomes\n",
    "print('\\ncalculating w_prime')\n",
    "w_prime = netprop.get_normalized_adjacency_matrix(G_int, conserve_heat=True)\n",
    "\n",
    "print('\\ncalculating w_double_prime')\n",
    "w_double_prime = netprop.get_individual_heats_matrix(w_prime, .5)\n",
    "\n"
   ]
  },
  {
   "cell_type": "markdown",
   "id": "7a3ed731",
   "metadata": {},
   "source": [
    "## 5. Subset seed genes to those found in the selected network."
   ]
  },
  {
   "cell_type": "code",
   "execution_count": 9,
   "id": "f51078a3",
   "metadata": {
    "scrolled": true
   },
   "outputs": [
    {
     "name": "stdout",
     "output_type": "stream",
     "text": [
      "LAMA3\n",
      "H3-4\n",
      "SLCO1B3-SLCO1B7\n",
      "MGA\n",
      "MAP2\n",
      "POP1\n"
     ]
    }
   ],
   "source": [
    "for MM in D1_genes:\n",
    "    if MM not in int_nodes:\n",
    "        print (MM)"
   ]
  },
  {
   "cell_type": "code",
   "execution_count": 10,
   "id": "91994a17",
   "metadata": {},
   "outputs": [
    {
     "name": "stdout",
     "output_type": "stream",
     "text": [
      "Number of D1 genes: 187\n",
      "Not present H3-4\n",
      "Not present SLCO1B3-SLCO1B7\n",
      "Number of D1 genes in interactome: 185\n"
     ]
    }
   ],
   "source": [
    "# subset seed genes to those found in interactome\n",
    "print(\"Number of D1 genes:\", len(D1_genes))\n",
    "\n",
    "\n",
    "D1_new = []\n",
    "for MM in D1_genes:\n",
    "    if MM in int_nodes:\n",
    "        D1_new.append(MM)\n",
    "    if MM not in int_nodes:\n",
    "        if MM in dic_alias:\n",
    "            #print (MM, dic_alias[MM])\n",
    "            D1_new.append(MM)\n",
    "        else:\n",
    "            print (\"Not present\", MM)\n",
    "        \n",
    "D1_genes = D1_new\n",
    "print(\"Number of D1 genes in interactome:\", len(D1_genes))"
   ]
  },
  {
   "cell_type": "markdown",
   "id": "3e77b2a5",
   "metadata": {},
   "source": [
    "##  6. Compute network proximity scores from seed gene set.\n"
   ]
  },
  {
   "cell_type": "code",
   "execution_count": 11,
   "id": "88bc29a9",
   "metadata": {},
   "outputs": [
    {
     "name": "stdout",
     "output_type": "stream",
     "text": [
      "\n",
      "Calculating D1 z-scores: \n"
     ]
    },
    {
     "data": {
      "application/vnd.jupyter.widget-view+json": {
       "model_id": "0f74344f83f746309724e921fbc9ae95",
       "version_major": 2,
       "version_minor": 0
      },
      "text/plain": [
       "  0%|          | 0/1000 [00:00<?, ?it/s]"
      ]
     },
     "metadata": {},
     "output_type": "display_data"
    },
    {
     "data": {
      "text/html": [
       "<div>\n",
       "<style scoped>\n",
       "    .dataframe tbody tr th:only-of-type {\n",
       "        vertical-align: middle;\n",
       "    }\n",
       "\n",
       "    .dataframe tbody tr th {\n",
       "        vertical-align: top;\n",
       "    }\n",
       "\n",
       "    .dataframe thead th {\n",
       "        text-align: right;\n",
       "    }\n",
       "</style>\n",
       "<table border=\"1\" class=\"dataframe\">\n",
       "  <thead>\n",
       "    <tr style=\"text-align: right;\">\n",
       "      <th></th>\n",
       "      <th>z</th>\n",
       "    </tr>\n",
       "  </thead>\n",
       "  <tbody>\n",
       "    <tr>\n",
       "      <th>CLTC</th>\n",
       "      <td>21.341222</td>\n",
       "    </tr>\n",
       "    <tr>\n",
       "      <th>HNRNPL</th>\n",
       "      <td>19.767824</td>\n",
       "    </tr>\n",
       "    <tr>\n",
       "      <th>VDAC2</th>\n",
       "      <td>19.187881</td>\n",
       "    </tr>\n",
       "    <tr>\n",
       "      <th>CNPY1</th>\n",
       "      <td>19.097940</td>\n",
       "    </tr>\n",
       "    <tr>\n",
       "      <th>FAM83G</th>\n",
       "      <td>17.947948</td>\n",
       "    </tr>\n",
       "  </tbody>\n",
       "</table>\n",
       "</div>"
      ],
      "text/plain": [
       "                z\n",
       "CLTC    21.341222\n",
       "HNRNPL  19.767824\n",
       "VDAC2   19.187881\n",
       "CNPY1   19.097940\n",
       "FAM83G  17.947948"
      ]
     },
     "execution_count": 11,
     "metadata": {},
     "output_type": "execute_result"
    }
   ],
   "source": [
    "# D1 network propagation\n",
    "print('\\nCalculating D1 z-scores: ')\n",
    "z_D1, Fnew_D1, Fnew_rand_D1 = netprop_zscore.calculate_heat_zscores(w_double_prime, int_nodes, \n",
    "                                                                    dict(G_int.degree), \n",
    "                                                                    D1_genes, num_reps=1000,\n",
    "                                                                    minimum_bin_size=100)\n",
    "\n",
    "z_D1 = pd.DataFrame({'z':z_D1})\n",
    "\n",
    "z_D1.sort_values('z',ascending=False).head()"
   ]
  },
  {
   "cell_type": "markdown",
   "id": "a34d941d",
   "metadata": {},
   "source": [
    "## 7. Build proximal subnetwork by taking z> thresh"
   ]
  },
  {
   "cell_type": "code",
   "execution_count": 12,
   "id": "9b33a657",
   "metadata": {},
   "outputs": [
    {
     "name": "stdout",
     "output_type": "stream",
     "text": [
      "Nodes in proximal subgraph: 439\n",
      "Edges in proximal subgraph: 2447\n",
      "          d1_seeds      d1_name       z_d1\n",
      "CLTC             1  MM DNM gens  21.341222\n",
      "HNRNPL           1  MM DNM gens  19.767824\n",
      "VDAC2            1  MM DNM gens  19.187881\n",
      "CNPY1            1  MM DNM gens  19.097940\n",
      "FAM83G           1  MM DNM gens  17.947948\n",
      "GTF3C3           1  MM DNM gens  17.852848\n",
      "MFAP1            1  MM DNM gens  17.846594\n",
      "DPYSL2           1  MM DNM gens  17.695655\n",
      "LEMD3            1  MM DNM gens  16.780574\n",
      "TOP2B            1  MM DNM gens  16.752226\n",
      "C6orf132         1  MM DNM gens  16.370847\n",
      "CRHR2            1  MM DNM gens  16.271097\n",
      "SMURF2           1  MM DNM gens  16.069396\n",
      "ATAD3B           1  MM DNM gens  15.869375\n",
      "SPEN             1  MM DNM gens  15.622895\n"
     ]
    }
   ],
   "source": [
    "\n",
    "# ----------- select thresholds for NetColoc -----------------\n",
    "zthresh=3 # default = 3\n",
    "\n",
    "# select the genes in the network intersection, make a subgraph\n",
    "\n",
    "G_prox = nx.subgraph(G_int,z_D1[z_D1['z']>zthresh].index.tolist()) \n",
    "print(\"Nodes in proximal subgraph:\", len(G_prox.nodes()))\n",
    "print(\"Edges in proximal subgraph:\", len(G_prox.edges()))\n",
    "\n",
    "\n",
    "\n",
    "\n",
    "# compile dataframe of metadata for overlapping nodes\n",
    "node_df = pd.DataFrame(index=list(G_prox.nodes))\n",
    "node_df = node_df.assign(d1_seeds=0, d1_name=d1_name)\n",
    "node_df.head()\n",
    "node_df.loc[list(np.intersect1d(node_df['d1_seeds'].keys() ,D1_genes)), 'd1_seeds']=1\n",
    "node_df['z_d1']=z_D1.loc[list(G_prox.nodes)]['z']\n",
    "#node_df['z_d2']=z_D2.loc[list(G_overlap.nodes)]['z']\n",
    "#node_df['z_both']=node_df['z_d1']*node_df['z_d2']\n",
    "#node_df['sum_seeds']=node_df['d1_seeds']+node_df['d2_seeds']\n",
    "\n",
    "node_df = node_df.sort_values('z_d1',ascending=False)\n",
    "print (node_df.head(15))\n",
    "\n"
   ]
  },
  {
   "cell_type": "markdown",
   "id": "e51de6c6",
   "metadata": {},
   "source": [
    "# ** Hypergeometric test"
   ]
  },
  {
   "cell_type": "code",
   "execution_count": 13,
   "id": "8645edba",
   "metadata": {},
   "outputs": [
    {
     "name": "stdout",
     "output_type": "stream",
     "text": [
      "Number of Mouse NTD genes: 374\n",
      "First 5 genes: ['EFNA5', 'EPHA7', 'FREM1', 'FREM2', 'GJA1']\n",
      "Number of DNM NTD genes: 185\n",
      "First 5 genes: ['GRIA3', 'SLC30A6', 'RXFP2', 'FAM83G', 'ZSWIM6'] \n",
      "\n",
      "\n",
      "Number of overalps of DNM NTD genes and Mouse NTD genes: 11 \n",
      "\n",
      "THOSE genes:: ['CELSR1' 'EP300' 'FREM1' 'GRHL2' 'GRHL3' 'MIB2' 'PAX3' 'SCRIB' 'SMURF2'\n",
      " 'TBXT' 'TIAM1']\n",
      "\n",
      "\n",
      "\n",
      "\n",
      "Number of Prop_genes: 439\n",
      "First 5 genes: Index(['CLTC', 'HNRNPL', 'VDAC2', 'CNPY1', 'FAM83G'], dtype='object')\n",
      "Number of overalps of Prop genes genes and Mouse NTD genes: 17 \n",
      "\n",
      "THOSE genes:: ['BMP7' 'CELSR1' 'DYNC2H1' 'EP300' 'FREM1' 'FREM2' 'GRHL2' 'GRHL3' 'MIB2'\n",
      " 'PAX3' 'SCRIB' 'SLC25A19' 'SMURF2' 'SS18' 'TBXT' 'TIAM1' 'TULP3']\n",
      "\n",
      "\n",
      "\n",
      "\n"
     ]
    }
   ],
   "source": [
    "#1. Mouse gene and the DNM gene\n",
    "MO_df = pd.read_csv('/tscc/projects/ps-gleesonlab8/User/hiyoothere/NTD/12.Network_propagation/MouseNTDgene/raw_221017.f.HumanConv.txt',sep='\\t', encoding = \"cp1252\")\n",
    "MO_genes = MO_df['gene'].tolist()\n",
    "print('Number of Mouse NTD genes:',len(MO_genes))\n",
    "print('First 5 genes:', MO_genes[0:5])\n",
    "\n",
    "print('Number of DNM NTD genes:',len(D1_genes))\n",
    "print('First 5 genes:', D1_genes[0:5], '\\n\\n')\n",
    "\n",
    "\n",
    "overlap_DNM = np.intersect1d(D1_genes,MO_genes)\n",
    "print('Number of overalps of DNM NTD genes and Mouse NTD genes:',len(overlap_DNM), '\\n')\n",
    "print('THOSE genes::', overlap_DNM)\n",
    "cnt_overlap_DNM = len(overlap_DNM)\n",
    "print (\"\\n\\n\\n\")\n",
    "\n",
    "#2. Mouse gene and propagated genes\n",
    "\n",
    "Prop_genes = node_df['d1_seeds'].keys()\n",
    "print('Number of Prop_genes:',len(Prop_genes))\n",
    "print('First 5 genes:', Prop_genes[0:5])\n",
    "\n",
    "\n",
    "\n",
    "overlap_prop = np.intersect1d(MO_genes,Prop_genes)\n",
    "print('Number of overalps of Prop genes genes and Mouse NTD genes:',len(overlap_prop), '\\n')\n",
    "print('THOSE genes::', overlap_prop)\n",
    "cnt_overlap_prop = len(overlap_prop)\n",
    "print (\"\\n\\n\\n\")\n",
    "\n",
    "\n"
   ]
  },
  {
   "cell_type": "code",
   "execution_count": 14,
   "id": "d415cca7",
   "metadata": {},
   "outputs": [],
   "source": [
    "from scipy.stats import hypergeom\n",
    "import matplotlib.pyplot as plt"
   ]
  },
  {
   "cell_type": "code",
   "execution_count": 15,
   "id": "659bcf49",
   "metadata": {
    "scrolled": true
   },
   "outputs": [
    {
     "data": {
      "text/plain": [
       "array([1.34076912e-004, 1.22243180e-003, 5.54482682e-003, 1.66831247e-002,\n",
       "       3.74576026e-002, 6.69420512e-002, 9.91922661e-002, 1.25344513e-001,\n",
       "       1.37889401e-001, 1.34149284e-001, 1.16860355e-001, 9.20717947e-002,\n",
       "       6.61553653e-002, 4.36519228e-002, 2.66080628e-002, 1.50594962e-002,\n",
       "       7.94920474e-003, 3.92868290e-003, 1.82423114e-003, 7.98286880e-004,\n",
       "       3.30128623e-004, 1.29340228e-004, 4.81160856e-005, 1.70312077e-005,\n",
       "       5.74665119e-006, 1.85159957e-006, 5.70599659e-007, 1.68424387e-007,\n",
       "       4.76823320e-008, 1.29639451e-008, 3.38886739e-009, 8.52680339e-010,\n",
       "       2.06717905e-010, 4.83334880e-011, 1.09091026e-011, 2.37886745e-012,\n",
       "       5.01579822e-013, 1.02335723e-013, 2.02182114e-014, 3.87062255e-015,\n",
       "       7.18489806e-016, 1.29397842e-016, 2.26230890e-017, 3.84180072e-018,\n",
       "       6.34021624e-019, 1.01736611e-019, 1.58804269e-020, 2.41244417e-021,\n",
       "       3.56822606e-022, 5.14078087e-023, 7.21707897e-024, 9.87679965e-025,\n",
       "       1.31811545e-025, 1.71603710e-026, 2.18013535e-027, 2.70374442e-028,\n",
       "       3.27423341e-029, 3.87299333e-030, 4.47613746e-031, 5.05593469e-032,\n",
       "       5.58288023e-033, 6.02819444e-034, 6.36645366e-035, 6.57801447e-036,\n",
       "       6.65090736e-037, 6.58194555e-038, 6.37690846e-039, 6.04979489e-040,\n",
       "       5.62127390e-041, 5.11656693e-042, 4.56305628e-043, 3.98792557e-044,\n",
       "       3.41610012e-045, 2.86868136e-046, 2.36197734e-047, 1.90713799e-048,\n",
       "       1.51032571e-049, 1.17329786e-050, 8.94252544e-052, 6.68789551e-053,\n",
       "       4.90859805e-054, 3.53609302e-055, 2.50060973e-056, 1.73612234e-057,\n",
       "       1.18353595e-058, 7.92323065e-060, 5.20947993e-061, 3.36440077e-062,\n",
       "       2.13447476e-063, 1.33042862e-064, 8.14808195e-066, 4.90373711e-067,\n",
       "       2.90035028e-068, 1.68603859e-069, 9.63428540e-071, 5.41185894e-072,\n",
       "       2.98873445e-073, 1.62285594e-074, 8.66485382e-076, 4.54953480e-077,\n",
       "       2.34926550e-078, 1.19313752e-079, 5.96039729e-081, 2.92899303e-082,\n",
       "       1.41596050e-083, 6.73447895e-085, 3.15142150e-086, 1.45106672e-087,\n",
       "       6.57468018e-089, 2.93153749e-090, 1.28640078e-091, 5.55575246e-093,\n",
       "       2.36167554e-094, 9.88172216e-096, 4.07008739e-097, 1.65027559e-098,\n",
       "       6.58738690e-100, 2.58878203e-101, 1.00166952e-102, 3.81610677e-104,\n",
       "       1.43154003e-105, 5.28801444e-107, 1.92356379e-108, 6.89070221e-110,\n",
       "       2.43097696e-111, 8.44647851e-113, 2.89044340e-114, 9.74233718e-116,\n",
       "       3.23435119e-117, 1.05767308e-118, 3.40698660e-120, 1.08108051e-121,\n",
       "       3.37930784e-123, 1.04062097e-124, 3.15693050e-126, 9.43533167e-128,\n",
       "       2.77830965e-129, 8.06021503e-131, 2.30391185e-132, 6.48856485e-134,\n",
       "       1.80054878e-135, 4.92316118e-137, 1.32640208e-138, 3.52133191e-140,\n",
       "       9.21186583e-142, 2.37467932e-143, 6.03234984e-145, 1.51007780e-146,\n",
       "       3.72520401e-148, 9.05618003e-150, 2.16965265e-151, 5.12260787e-153,\n",
       "       1.19193603e-154, 2.73325747e-156, 6.17701094e-158, 1.37578491e-159,\n",
       "       3.01995739e-161, 6.53329997e-163, 1.39299306e-164, 2.92720130e-166,\n",
       "       6.06241806e-168, 1.23745912e-169, 2.48948332e-171, 4.93608147e-173,\n",
       "       9.64608712e-175, 1.85787502e-176, 3.52678212e-178, 6.59838448e-180,\n",
       "       1.21672706e-181, 2.21128469e-183, 3.96087516e-185, 6.99248258e-187,\n",
       "       1.21664476e-188, 2.08634650e-190, 3.52612023e-192, 5.87345010e-194,\n",
       "       9.64210997e-196, 1.56002059e-197, 2.48750831e-199, 3.90904708e-201,\n",
       "       6.05404003e-203, 9.24024022e-205, 1.38988883e-206, 2.06030079e-208,\n",
       "       3.00974405e-210, 4.33282522e-212, 6.14680488e-214, 8.59326097e-216,\n",
       "       1.18383245e-217, 1.60708620e-219, 2.14979730e-221, 2.83372470e-223,\n",
       "       3.68054111e-225, 4.71032981e-227, 5.93974799e-229, 7.37994096e-231,\n",
       "       9.03434568e-233, 1.08965729e-234, 1.29485961e-236, 1.51594966e-238,\n",
       "       1.74850019e-240, 1.98680174e-242, 2.22402736e-244, 2.45251084e-246,\n",
       "       2.66412800e-248, 2.85075810e-250, 3.00479067e-252, 3.11963473e-254,\n",
       "       3.19018370e-256, 3.21319037e-258, 3.18751387e-260, 3.11421262e-262,\n",
       "       2.99647263e-264, 2.83937799e-266, 2.64954649e-268, 2.43466686e-270,\n",
       "       2.20298256e-272, 1.96277071e-274, 1.72186130e-276, 1.48723486e-278,\n",
       "       1.26472488e-280, 1.05883821e-282, 8.72693434e-285, 7.08065605e-287,\n",
       "       5.65517030e-289, 4.44588860e-291, 3.44026619e-293, 2.62014640e-295,\n",
       "       1.96398488e-297, 1.44879982e-299, 1.05175467e-301, 7.51335716e-304,\n",
       "       5.28134330e-306, 3.65277005e-308, 2.48567398e-310, 1.66412425e-312,\n",
       "       1.09603003e-314, 7.10115810e-317, 4.52564132e-319, 2.83593681e-321,\n",
       "       1.97626258e-323, 0.00000000e+000, 0.00000000e+000, 0.00000000e+000,\n",
       "       0.00000000e+000, 0.00000000e+000, 0.00000000e+000, 0.00000000e+000,\n",
       "       0.00000000e+000, 0.00000000e+000, 0.00000000e+000, 0.00000000e+000,\n",
       "       0.00000000e+000, 0.00000000e+000, 0.00000000e+000, 0.00000000e+000,\n",
       "       0.00000000e+000, 0.00000000e+000, 0.00000000e+000, 0.00000000e+000,\n",
       "       0.00000000e+000, 0.00000000e+000, 0.00000000e+000, 0.00000000e+000,\n",
       "       0.00000000e+000, 0.00000000e+000, 0.00000000e+000, 0.00000000e+000,\n",
       "       0.00000000e+000, 0.00000000e+000, 0.00000000e+000, 0.00000000e+000,\n",
       "       0.00000000e+000, 0.00000000e+000, 0.00000000e+000, 0.00000000e+000,\n",
       "       0.00000000e+000, 0.00000000e+000, 0.00000000e+000, 0.00000000e+000,\n",
       "       0.00000000e+000, 0.00000000e+000, 0.00000000e+000, 0.00000000e+000,\n",
       "       0.00000000e+000, 0.00000000e+000, 0.00000000e+000, 0.00000000e+000,\n",
       "       0.00000000e+000, 0.00000000e+000, 0.00000000e+000, 0.00000000e+000,\n",
       "       0.00000000e+000, 0.00000000e+000, 0.00000000e+000, 0.00000000e+000,\n",
       "       0.00000000e+000, 0.00000000e+000, 0.00000000e+000, 0.00000000e+000,\n",
       "       0.00000000e+000, 0.00000000e+000, 0.00000000e+000, 0.00000000e+000,\n",
       "       0.00000000e+000, 0.00000000e+000, 0.00000000e+000, 0.00000000e+000,\n",
       "       0.00000000e+000, 0.00000000e+000, 0.00000000e+000, 0.00000000e+000,\n",
       "       0.00000000e+000, 0.00000000e+000, 0.00000000e+000, 0.00000000e+000,\n",
       "       0.00000000e+000, 0.00000000e+000, 0.00000000e+000, 0.00000000e+000,\n",
       "       0.00000000e+000, 0.00000000e+000, 0.00000000e+000, 0.00000000e+000,\n",
       "       0.00000000e+000, 0.00000000e+000, 0.00000000e+000, 0.00000000e+000,\n",
       "       0.00000000e+000, 0.00000000e+000, 0.00000000e+000, 0.00000000e+000,\n",
       "       0.00000000e+000, 0.00000000e+000, 0.00000000e+000, 0.00000000e+000,\n",
       "       0.00000000e+000, 0.00000000e+000, 0.00000000e+000, 0.00000000e+000,\n",
       "       0.00000000e+000, 0.00000000e+000, 0.00000000e+000, 0.00000000e+000,\n",
       "       0.00000000e+000, 0.00000000e+000, 0.00000000e+000, 0.00000000e+000,\n",
       "       0.00000000e+000, 0.00000000e+000, 0.00000000e+000, 0.00000000e+000,\n",
       "       0.00000000e+000, 0.00000000e+000, 0.00000000e+000, 0.00000000e+000,\n",
       "       0.00000000e+000, 0.00000000e+000, 0.00000000e+000, 0.00000000e+000,\n",
       "       0.00000000e+000, 0.00000000e+000, 0.00000000e+000, 0.00000000e+000,\n",
       "       0.00000000e+000, 0.00000000e+000, 0.00000000e+000, 0.00000000e+000,\n",
       "       0.00000000e+000, 0.00000000e+000, 0.00000000e+000, 0.00000000e+000,\n",
       "       0.00000000e+000, 0.00000000e+000, 0.00000000e+000])"
      ]
     },
     "execution_count": 15,
     "metadata": {},
     "output_type": "execute_result"
    }
   ],
   "source": [
    "[M, n, N] = [18820, len(MO_genes), len(G_prox.nodes())]\n",
    "#https://www.science.org/doi/10.1126/science.abj6987\n",
    "#M = KNOWN NTD GENE ( MOUSE GENE)\n",
    "#N = CNT_PROP_GENE\n",
    "rv = hypergeom(M, n, N)\n",
    "#rv = hypergeom(20, 7, 12)\n",
    "x = np.arange(0, n+1)\n",
    "pmf = rv.pmf(x)\n",
    "pmf"
   ]
  },
  {
   "cell_type": "code",
   "execution_count": 16,
   "id": "e5268c6d",
   "metadata": {},
   "outputs": [
    {
     "data": {
      "image/png": "[encoded data removed]",
      "text/plain": [
       "<Figure size 640x480 with 1 Axes>"
      ]
     },
     "metadata": {},
     "output_type": "display_data"
    }
   ],
   "source": [
    "fig = plt.figure()\n",
    "ax = fig.add_subplot(111)\n",
    "ax.plot(x, pmf, 'bo')\n",
    "ax.vlines(x, 0, pmf, lw=1)\n",
    "ax.set_xlabel('# of MOUSE NTD genes in propagated network')\n",
    "ax.set_ylabel('hypergeom PMF')\n",
    "plt.show()"
   ]
  },
  {
   "cell_type": "code",
   "execution_count": 17,
   "id": "389fb975",
   "metadata": {},
   "outputs": [
    {
     "data": {
      "text/plain": [
       "0.0015777682995173348"
      ]
     },
     "execution_count": 17,
     "metadata": {},
     "output_type": "execute_result"
    }
   ],
   "source": [
    "prb = hypergeom.cdf(len(overlap_prop), M, n, N) \n",
    "prb\n",
    "(1-prb)/2"
   ]
  },
  {
   "cell_type": "code",
   "execution_count": 23,
   "id": "959bc1c2-e14c-48ad-a36a-0c62028c219e",
   "metadata": {},
   "outputs": [
    {
     "name": "stdout",
     "output_type": "stream",
     "text": [
      "Generating CX\n"
     ]
    }
   ],
   "source": [
    "G_prox_cx = ndex2.create_nice_cx_from_networkx(G_prox)\n",
    "network_uuid_hier = G_prox_cx.upload_to('ndexbio.org', 'jiny', '')"
   ]
  },
  {
   "cell_type": "code",
   "execution_count": null,
   "id": "0eaf3f62",
   "metadata": {},
   "outputs": [],
   "source": []
  },
  {
   "cell_type": "code",
   "execution_count": null,
   "id": "5167c7c2",
   "metadata": {},
   "outputs": [],
   "source": []
  },
  {
   "cell_type": "code",
   "execution_count": null,
   "id": "4fabed98",
   "metadata": {},
   "outputs": [],
   "source": []
  },
  {
   "cell_type": "code",
   "execution_count": null,
   "id": "e6ef3ecb",
   "metadata": {},
   "outputs": [],
   "source": []
  },
  {
   "cell_type": "code",
   "execution_count": null,
   "id": "114a23d0",
   "metadata": {},
   "outputs": [],
   "source": []
  }
 ],
 "metadata": {
  "kernelspec": {
   "display_name": "Python 3 (ipykernel)",
   "language": "python",
   "name": "python3"
  },
  "language_info": {
   "codemirror_mode": {
    "name": "ipython",
    "version": 3
   },
   "file_extension": ".py",
   "mimetype": "text/x-python",
   "name": "python",
   "nbconvert_exporter": "python",
   "pygments_lexer": "ipython3",
   "version": "3.12.2"
  }
 },
 "nbformat": 4,
 "nbformat_minor": 5
}
